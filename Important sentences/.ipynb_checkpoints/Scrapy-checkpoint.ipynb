{
 "cells": [
  {
   "cell_type": "code",
   "execution_count": 17,
   "metadata": {},
   "outputs": [],
   "source": [
    "import json\n",
    "import pandas as pd"
   ]
  },
  {
   "cell_type": "code",
   "execution_count": 57,
   "metadata": {},
   "outputs": [],
   "source": [
    "world=open('data/json/world_titles.json').read()\n",
    "world = json.loads(world, encoding='UTF-8')\n",
    "world = pd.DataFrame(world)\n",
    "world['solve'] = 0"
   ]
  },
  {
   "cell_type": "code",
   "execution_count": 58,
   "metadata": {},
   "outputs": [],
   "source": [
    "society=open('data/json/society_titles.json').read()\n",
    "society = json.loads(society, encoding='UTF-8')\n",
    "society = pd.DataFrame(society)\n",
    "society['solve'] = 5"
   ]
  },
  {
   "cell_type": "code",
   "execution_count": 59,
   "metadata": {},
   "outputs": [],
   "source": [
    "politics=open('data/json/politics_titles.json').read()\n",
    "politics = json.loads(politics, encoding='UTF-8')\n",
    "politics = pd.DataFrame(politics)\n",
    "politics['solve'] = 4"
   ]
  },
  {
   "cell_type": "code",
   "execution_count": 60,
   "metadata": {},
   "outputs": [],
   "source": [
    "religion=open('data/json/religion_titles.json').read()\n",
    "religion = json.loads(religion, encoding='UTF-8')\n",
    "religion = pd.DataFrame(religion)\n",
    "religion['solve'] = 6"
   ]
  },
  {
   "cell_type": "code",
   "execution_count": 61,
   "metadata": {},
   "outputs": [],
   "source": [
    "economy=open('data/json/economy_titles.json').read()\n",
    "economy = json.loads(economy, encoding='UTF-8')\n",
    "economy = pd.DataFrame(economy)\n",
    "economy['solve'] = 3"
   ]
  },
  {
   "cell_type": "code",
   "execution_count": 62,
   "metadata": {},
   "outputs": [],
   "source": [
    "culture=open('data/json/culture_titles.json').read()\n",
    "culture = json.loads(culture, encoding='UTF-8')\n",
    "culture = pd.DataFrame(culture)\n",
    "culture['solve'] = 2"
   ]
  },
  {
   "cell_type": "code",
   "execution_count": 63,
   "metadata": {},
   "outputs": [],
   "source": [
    "science=open('data/json/science_titles.json').read()\n",
    "science = json.loads(science, encoding='UTF-8')\n",
    "science = pd.DataFrame(science)\n",
    "science['solve'] = 1"
   ]
  },
  {
   "cell_type": "code",
   "execution_count": 74,
   "metadata": {},
   "outputs": [],
   "source": [
    "religion.to_csv('data/religion_titles.csv')"
   ]
  },
  {
   "cell_type": "code",
   "execution_count": 65,
   "metadata": {},
   "outputs": [
    {
     "data": {
      "text/plain": [
       "'Пранкер Вован назвал запрет въезда на Украину показателем его заслуг '"
      ]
     },
     "execution_count": 65,
     "metadata": {},
     "output_type": "execute_result"
    }
   ],
   "source": [
    "x.text[300]"
   ]
  },
  {
   "cell_type": "code",
   "execution_count": 72,
   "metadata": {},
   "outputs": [
    {
     "data": {
      "text/html": [
       "<div>\n",
       "<style scoped>\n",
       "    .dataframe tbody tr th:only-of-type {\n",
       "        vertical-align: middle;\n",
       "    }\n",
       "\n",
       "    .dataframe tbody tr th {\n",
       "        vertical-align: top;\n",
       "    }\n",
       "\n",
       "    .dataframe thead th {\n",
       "        text-align: right;\n",
       "    }\n",
       "</style>\n",
       "<table border=\"1\" class=\"dataframe\">\n",
       "  <thead>\n",
       "    <tr style=\"text-align: right;\">\n",
       "      <th></th>\n",
       "      <th>href</th>\n",
       "      <th>text</th>\n",
       "      <th>solve</th>\n",
       "    </tr>\n",
       "  </thead>\n",
       "  <tbody>\n",
       "    <tr>\n",
       "      <th>0</th>\n",
       "      <td>/20181210/1547771264.html</td>\n",
       "      <td>Франция выразила соболезнования в связи со сме...</td>\n",
       "      <td>5</td>\n",
       "    </tr>\n",
       "    <tr>\n",
       "      <th>1</th>\n",
       "      <td>/20181210/1547769739.html</td>\n",
       "      <td>В Госдуме рассмотрят проект об управлении граж...</td>\n",
       "      <td>5</td>\n",
       "    </tr>\n",
       "    <tr>\n",
       "      <th>2</th>\n",
       "      <td>/20181210/1547763424.html</td>\n",
       "      <td>В Госдуме обсудят способы общения детей с роди...</td>\n",
       "      <td>5</td>\n",
       "    </tr>\n",
       "    <tr>\n",
       "      <th>3</th>\n",
       "      <td>/20181210/1547763382.html</td>\n",
       "      <td>В Ингушетии планируют основать новые населенны...</td>\n",
       "      <td>5</td>\n",
       "    </tr>\n",
       "    <tr>\n",
       "      <th>4</th>\n",
       "      <td>/20181210/1547761781.html</td>\n",
       "      <td>Суд в Москве не разрешил правозащитнику Понома...</td>\n",
       "      <td>5</td>\n",
       "    </tr>\n",
       "  </tbody>\n",
       "</table>\n",
       "</div>"
      ],
      "text/plain": [
       "                        href  \\\n",
       "0  /20181210/1547771264.html   \n",
       "1  /20181210/1547769739.html   \n",
       "2  /20181210/1547763424.html   \n",
       "3  /20181210/1547763382.html   \n",
       "4  /20181210/1547761781.html   \n",
       "\n",
       "                                                text  solve  \n",
       "0  Франция выразила соболезнования в связи со сме...      5  \n",
       "1  В Госдуме рассмотрят проект об управлении граж...      5  \n",
       "2  В Госдуме обсудят способы общения детей с роди...      5  \n",
       "3  В Ингушетии планируют основать новые населенны...      5  \n",
       "4  Суд в Москве не разрешил правозащитнику Понома...      5  "
      ]
     },
     "execution_count": 72,
     "metadata": {},
     "output_type": "execute_result"
    }
   ],
   "source": [
    "society.head()"
   ]
  },
  {
   "cell_type": "code",
   "execution_count": null,
   "metadata": {},
   "outputs": [],
   "source": [
    "for i in range(len(X_titles_train.text)):\n",
    "    X_titles_train.spec_count[i] = len(re.findall('[!@#$\"\"-?.,%]', X_titles_train.text[i]))\n",
    "    X_titles_train.text[i] = re.sub('[!@#$\"\"-?.,%]', '', X_titles_train.text[i])\n",
    "    X_titles_train.text[i] = X_titles_train.text[i].split(' ')\n",
    "    for j in range(len(X_titles_train.text[i])):\n",
    "        X_titles_train.text[i][j] = morph.parse(X_titles_train.text[i][j])[0].normal_form\n",
    "    X_titles_train.text[i] = ' '.join(X_titles_train.text[i])\n",
    "    if (i%75==0):\n",
    "        print(i/75, end=' ')"
   ]
  }
 ],
 "metadata": {
  "kernelspec": {
   "display_name": "Python 3",
   "language": "python",
   "name": "python3"
  },
  "language_info": {
   "codemirror_mode": {
    "name": "ipython",
    "version": 3
   },
   "file_extension": ".py",
   "mimetype": "text/x-python",
   "name": "python",
   "nbconvert_exporter": "python",
   "pygments_lexer": "ipython3",
   "version": "3.6.5"
  }
 },
 "nbformat": 4,
 "nbformat_minor": 2
}
